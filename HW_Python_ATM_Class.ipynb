{
  "nbformat": 4,
  "nbformat_minor": 0,
  "metadata": {
    "colab": {
      "provenance": [],
      "authorship_tag": "ABX9TyMyRBOg0nzPGbaO+AMlGxNv",
      "include_colab_link": true
    },
    "kernelspec": {
      "name": "python3",
      "display_name": "Python 3"
    },
    "language_info": {
      "name": "python"
    }
  },
  "cells": [
    {
      "cell_type": "markdown",
      "metadata": {
        "id": "view-in-github",
        "colab_type": "text"
      },
      "source": [
        "<a href=\"https://colab.research.google.com/github/ThanitaEiamvijit/boothcamp_project/blob/main/HW_Python_ATM_Class.ipynb\" target=\"_parent\"><img src=\"https://colab.research.google.com/assets/colab-badge.svg\" alt=\"Open In Colab\"/></a>"
      ]
    },
    {
      "cell_type": "code",
      "execution_count": null,
      "metadata": {
        "id": "ZB4XsgqRSBKd",
        "colab": {
          "base_uri": "https://localhost:8080/"
        },
        "outputId": "4a205ede-7db3-4dce-f0de-7816b059a949"
      },
      "outputs": [
        {
          "output_type": "stream",
          "name": "stdout",
          "text": [
            "Anna Lee 10000\n"
          ]
        }
      ],
      "source": [
        "# homework\n",
        "# intro to python\n",
        "# OOP - Object Oriented Programming\n",
        "# ATM class - at least 5 methods\n",
        "# method 1 - account\n",
        "class ATM:\n",
        "  def __init__(self, name, lastname, balance):\n",
        "    self.name = name\n",
        "    self.lastname = lastname\n",
        "    self.balance = balance\n",
        "  \n",
        "bank1 = ATM(\"Anna\", \"Lee\", 10000)\n",
        "\n",
        "print(bank1.name, bank1.lastname, bank1.balance)"
      ]
    },
    {
      "cell_type": "code",
      "source": [
        "# method 2 - check account balance\n",
        "class ATM:\n",
        "  def __init__(self, name, lastname, balance):\n",
        "    self.name = name\n",
        "    self.lastname = lastname\n",
        "    self.balance = balance\n",
        "  \n",
        "  def check_balance(self):\n",
        "    message = f\"Account: {self.name} {self.lastname}, Account Balance: {self.balance}\"\n",
        "    print(message)\n",
        "\n",
        "bank1 = ATM(\"Anna\", \"Lee\", 10000)\n",
        "\n",
        "print(bank1.check_balance())"
      ],
      "metadata": {
        "colab": {
          "base_uri": "https://localhost:8080/"
        },
        "id": "fJWSgG2UyPmP",
        "outputId": "8f88028b-0af6-48bf-c60c-952083cdd3b9"
      },
      "execution_count": null,
      "outputs": [
        {
          "output_type": "stream",
          "name": "stdout",
          "text": [
            "Account: Anna Lee, Account Balance: 10000\n",
            "None\n"
          ]
        }
      ]
    },
    {
      "cell_type": "code",
      "source": [
        "# method 3 - deposit\n",
        "class ATM:\n",
        "  def __init__(self, name, lastname, balance):\n",
        "    self.name = name\n",
        "    self.lastname = lastname\n",
        "    self.balance = balance\n",
        "  \n",
        "  def check_balance(self):\n",
        "    message = f\"Account: {self.name} {self.lastname}, Account Balance: {self.balance}\"\n",
        "    print(message)\n",
        "\n",
        "  def deposit(self, money):\n",
        "    self.balance += money\n",
        "    message1 = f\"Deposit: {money}, New Balance: {self.balance}\"\n",
        "    print(message1)\n",
        "    print(\"Deposit Successfully.\")\n",
        "\n",
        "bank1 = ATM(\"Anna\", \"Lee\", 10000)\n",
        "\n",
        "print(bank1.deposit(5500))"
      ],
      "metadata": {
        "colab": {
          "base_uri": "https://localhost:8080/"
        },
        "id": "M0nLqwtXy_-Z",
        "outputId": "0289e7b3-08d1-452c-e918-548908de7720"
      },
      "execution_count": null,
      "outputs": [
        {
          "output_type": "stream",
          "name": "stdout",
          "text": [
            "Deposit: 5500, New Balance: 15500\n",
            "Deposit Successfully.\n",
            "None\n"
          ]
        }
      ]
    },
    {
      "cell_type": "code",
      "source": [
        "# method 4 - withdraw\n",
        "class ATM:\n",
        "  def __init__(self, name, lastname, balance):\n",
        "    self.name = name\n",
        "    self.lastname = lastname\n",
        "    self.balance = balance\n",
        "  \n",
        "  def check_balance(self):\n",
        "    message = f\"Account: {self.name} {self.lastname}, Account Balance: {self.balance}\"\n",
        "    print(message)\n",
        "\n",
        "  def withdraw(self, money):\n",
        "    self.balance -= money\n",
        "    message1 = f\"Withdraw: {money}, New Balance: {self.balance}\"\n",
        "    print(message1)\n",
        "    print(\"Withdraw Successfully.\")\n",
        "\n",
        "bank1 = ATM(\"Anna\", \"Lee\", 10000)\n",
        "\n",
        "print(bank1.withdraw(6500))\n",
        "\n"
      ],
      "metadata": {
        "colab": {
          "base_uri": "https://localhost:8080/"
        },
        "id": "X3GZ-SEV0eZX",
        "outputId": "ce0b9fb2-7c6f-41ec-b4fe-6c9606e840ad"
      },
      "execution_count": null,
      "outputs": [
        {
          "output_type": "stream",
          "name": "stdout",
          "text": [
            "Withdraw: 6500, New Balance: 3500\n",
            "Withdraw Successfully.\n",
            "None\n"
          ]
        }
      ]
    },
    {
      "cell_type": "code",
      "source": [
        "# method 5 - change account name \n",
        "class ATM:\n",
        "  def __init__(self, name, lastname, balance):\n",
        "    self.name = name\n",
        "    self.lastname = lastname\n",
        "    self.balance = balance\n",
        "  \n",
        "  def check_balance(self):\n",
        "    message = f\"Account: {self.name} {self.lastname}, Account Balance: {self.balance}\"\n",
        "    print(message)\n",
        "\n",
        "  def change_name(self, new_acc_name):\n",
        "    self.name = new_acc_name\n",
        "    print(f\"New Account Name: {self.name} {self.lastname}\")\n",
        "    print(\"Your account name has been changed.\")\n",
        "\n",
        "bank1 = ATM(\"Anna\", \"Lee\", 10000)\n",
        "\n",
        "print(bank1.change_name(\"Jessica\"))\n"
      ],
      "metadata": {
        "colab": {
          "base_uri": "https://localhost:8080/"
        },
        "id": "MFKtJGkw07Ou",
        "outputId": "b6d28edf-c794-4229-edd2-41261398c57d"
      },
      "execution_count": null,
      "outputs": [
        {
          "output_type": "stream",
          "name": "stdout",
          "text": [
            "New Account Name: Jessica Lee\n",
            "Your account name has been changed.\n",
            "None\n"
          ]
        }
      ]
    }
  ]
}